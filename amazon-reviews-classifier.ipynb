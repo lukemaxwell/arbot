{
 "cells": [
  {
   "cell_type": "code",
   "execution_count": 1,
   "metadata": {},
   "outputs": [
    {
     "ename": "ModuleNotFoundError",
     "evalue": "No module named 'pandas'",
     "output_type": "error",
     "traceback": [
      "\u001b[0;31m---------------------------------------------------------------------------\u001b[0m",
      "\u001b[0;31mModuleNotFoundError\u001b[0m                       Traceback (most recent call last)",
      "\u001b[0;32m<ipython-input-1-beebae17fdfe>\u001b[0m in \u001b[0;36m<module>\u001b[0;34m()\u001b[0m\n\u001b[1;32m      3\u001b[0m \u001b[0;32mfrom\u001b[0m \u001b[0mamazon\u001b[0m\u001b[0;34m.\u001b[0m\u001b[0mmodels\u001b[0m \u001b[0;32mimport\u001b[0m \u001b[0mReview\u001b[0m\u001b[0;34m\u001b[0m\u001b[0m\n\u001b[1;32m      4\u001b[0m \u001b[0;32mfrom\u001b[0m \u001b[0mcore\u001b[0m\u001b[0;34m.\u001b[0m\u001b[0mspiders\u001b[0m \u001b[0;32mimport\u001b[0m \u001b[0mSplashBaseSpider\u001b[0m\u001b[0;34m\u001b[0m\u001b[0m\n\u001b[0;32m----> 5\u001b[0;31m \u001b[0;32mimport\u001b[0m \u001b[0mpandas\u001b[0m \u001b[0;32mas\u001b[0m \u001b[0mpd\u001b[0m\u001b[0;34m\u001b[0m\u001b[0m\n\u001b[0m\u001b[1;32m      6\u001b[0m \u001b[0;32mimport\u001b[0m \u001b[0myarl\u001b[0m\u001b[0;34m\u001b[0m\u001b[0m\n\u001b[1;32m      7\u001b[0m \u001b[0;32mimport\u001b[0m \u001b[0mrequests\u001b[0m\u001b[0;34m\u001b[0m\u001b[0m\n",
      "\u001b[0;31mModuleNotFoundError\u001b[0m: No module named 'pandas'"
     ]
    }
   ],
   "source": [
    "from IPython.core.display import display, HTML, Image\n",
    "from time import sleep\n",
    "from amazon.models import Review\n",
    "from core.spiders import SplashBaseSpider\n",
    "import pandas as pd\n",
    "import yarl\n",
    "import requests\n",
    "from sklearn import decomposition, ensemble\n",
    "from sklearn import model_selection, preprocessing, linear_model, naive_bayes, metrics, svm\n",
    "from sklearn.feature_extraction.text import TfidfVectorizer, CountVectorizer"
   ]
  },
  {
   "cell_type": "code",
   "execution_count": 48,
   "metadata": {
    "collapsed": true
   },
   "outputs": [],
   "source": [
    "def train_model(classifier, feature_vector_train, label, feature_vector_valid, is_neural_net=False):\n",
    "    # fit the training dataset on the classifier\n",
    "    classifier.fit(feature_vector_train, label)\n",
    "    \n",
    "    # predict the labels on validation dataset\n",
    "    predictions = classifier.predict(feature_vector_valid)\n",
    "    print(predictions)\n",
    "    \n",
    "    if is_neural_net:\n",
    "        predictions = predictions.argmax(axis=-1)\n",
    "    \n",
    "    return metrics.accuracy_score(predictions, valid_y)"
   ]
  },
  {
   "cell_type": "code",
   "execution_count": 36,
   "metadata": {
    "collapsed": true
   },
   "outputs": [],
   "source": [
    "reviews = Review.objects.all()\n",
    "train_df = pd.DataFrame()\n",
    "labels = []\n",
    "texts = []\n",
    "gifts = []\n",
    "notgifts = []"
   ]
  },
  {
   "cell_type": "code",
   "execution_count": 37,
   "metadata": {
    "collapsed": true
   },
   "outputs": [],
   "source": [
    "# Create a pandas dataframe from the results in order to analyse\n",
    "#df = pd.DataFrame(list(Review.objects.all().values()))"
   ]
  },
  {
   "cell_type": "code",
   "execution_count": 38,
   "metadata": {
    "collapsed": true
   },
   "outputs": [],
   "source": [
    "#for review in reviews:\n",
    "#    text = '{}.{}'.format(review.title, review.body)\n",
    "#    texts.append(text)"
   ]
  },
  {
   "cell_type": "code",
   "execution_count": 39,
   "metadata": {
    "collapsed": true
   },
   "outputs": [],
   "source": [
    "#import csv\n",
    "#with open('classifiers/training/gifts.csv', 'a') as f:\n",
    "#    writer = csv.writer(f)\n",
    "#    for text in notgifts:\n",
    "#        writer.writerow([text, 'notgift'])\n",
    "    "
   ]
  },
  {
   "cell_type": "code",
   "execution_count": 40,
   "metadata": {
    "collapsed": true
   },
   "outputs": [],
   "source": [
    "# Load the data\n",
    "df = pd.read_csv('classifiers/training/gifts.csv', names=['text', 'label'])"
   ]
  },
  {
   "cell_type": "code",
   "execution_count": 41,
   "metadata": {},
   "outputs": [
    {
     "data": {
      "text/html": [
       "<div>\n",
       "<style>\n",
       "    .dataframe thead tr:only-child th {\n",
       "        text-align: right;\n",
       "    }\n",
       "\n",
       "    .dataframe thead th {\n",
       "        text-align: left;\n",
       "    }\n",
       "\n",
       "    .dataframe tbody tr th {\n",
       "        vertical-align: top;\n",
       "    }\n",
       "</style>\n",
       "<table border=\"1\" class=\"dataframe\">\n",
       "  <thead>\n",
       "    <tr style=\"text-align: right;\">\n",
       "      <th></th>\n",
       "      <th>text</th>\n",
       "      <th>label</th>\n",
       "    </tr>\n",
       "  </thead>\n",
       "  <tbody>\n",
       "    <tr>\n",
       "      <th>0</th>\n",
       "      <td>It is a lovely colour and looks very sturdy, t...</td>\n",
       "      <td>gift</td>\n",
       "    </tr>\n",
       "    <tr>\n",
       "      <th>1</th>\n",
       "      <td>it is cute and fun, very pleased with it.bough...</td>\n",
       "      <td>gift</td>\n",
       "    </tr>\n",
       "    <tr>\n",
       "      <th>2</th>\n",
       "      <td>Happy with product..Bought as a gift and I hav...</td>\n",
       "      <td>gift</td>\n",
       "    </tr>\n",
       "    <tr>\n",
       "      <th>3</th>\n",
       "      <td>Baby Nessie.Lovely, cute gift, arrived before ...</td>\n",
       "      <td>gift</td>\n",
       "    </tr>\n",
       "    <tr>\n",
       "      <th>4</th>\n",
       "      <td>Pleasantly surprised!.Bought this as a gift. I...</td>\n",
       "      <td>gift</td>\n",
       "    </tr>\n",
       "  </tbody>\n",
       "</table>\n",
       "</div>"
      ],
      "text/plain": [
       "                                                text label\n",
       "0  It is a lovely colour and looks very sturdy, t...  gift\n",
       "1  it is cute and fun, very pleased with it.bough...  gift\n",
       "2  Happy with product..Bought as a gift and I hav...  gift\n",
       "3  Baby Nessie.Lovely, cute gift, arrived before ...  gift\n",
       "4  Pleasantly surprised!.Bought this as a gift. I...  gift"
      ]
     },
     "execution_count": 41,
     "metadata": {},
     "output_type": "execute_result"
    }
   ],
   "source": [
    "df.head()"
   ]
  },
  {
   "cell_type": "code",
   "execution_count": 52,
   "metadata": {},
   "outputs": [],
   "source": [
    "# split the dataset into training and validation datasets \n",
    "train_x, valid_x, train_y, valid_y = model_selection.train_test_split(df['text'], df['label'])"
   ]
  },
  {
   "cell_type": "code",
   "execution_count": 43,
   "metadata": {
    "collapsed": true
   },
   "outputs": [],
   "source": [
    "# label encode the target variable \n",
    "encoder = preprocessing.LabelEncoder()\n",
    "train_y = encoder.fit_transform(train_y)\n",
    "valid_y = encoder.fit_transform(valid_y)"
   ]
  },
  {
   "cell_type": "code",
   "execution_count": 44,
   "metadata": {
    "collapsed": true
   },
   "outputs": [],
   "source": [
    "# create a count vectorizer object \n",
    "count_vect = CountVectorizer(analyzer='word', token_pattern=r'\\w{1,}')\n",
    "count_vect.fit(df['text'])\n",
    "\n",
    "# transform the training and validation data using count vectorizer object\n",
    "xtrain_count =  count_vect.transform(train_x)\n",
    "xvalid_count =  count_vect.transform(valid_x)"
   ]
  },
  {
   "cell_type": "code",
   "execution_count": 45,
   "metadata": {
    "collapsed": true
   },
   "outputs": [],
   "source": [
    "# word level tf-idf\n",
    "tfidf_vect = TfidfVectorizer(analyzer='word', token_pattern=r'\\w{1,}', max_features=5000)\n",
    "tfidf_vect.fit(df['text'])\n",
    "xtrain_tfidf =  tfidf_vect.transform(train_x)\n",
    "xvalid_tfidf =  tfidf_vect.transform(valid_x)\n",
    "\n",
    "# ngram level tf-idf \n",
    "tfidf_vect_ngram = TfidfVectorizer(analyzer='word', token_pattern=r'\\w{1,}', ngram_range=(2,3), max_features=5000)\n",
    "tfidf_vect_ngram.fit(df['text'])\n",
    "xtrain_tfidf_ngram =  tfidf_vect_ngram.transform(train_x)\n",
    "xvalid_tfidf_ngram =  tfidf_vect_ngram.transform(valid_x)\n",
    "\n",
    "# characters level tf-idf\n",
    "tfidf_vect_ngram_chars = TfidfVectorizer(analyzer='char', token_pattern=r'\\w{1,}', ngram_range=(2,3), max_features=5000)\n",
    "tfidf_vect_ngram_chars.fit(df['text'])\n",
    "xtrain_tfidf_ngram_chars =  tfidf_vect_ngram_chars.transform(train_x) \n",
    "xvalid_tfidf_ngram_chars =  tfidf_vect_ngram_chars.transform(valid_x) "
   ]
  },
  {
   "cell_type": "markdown",
   "metadata": {},
   "source": [
    "## Naive Bayes"
   ]
  },
  {
   "cell_type": "code",
   "execution_count": 49,
   "metadata": {},
   "outputs": [
    {
     "name": "stdout",
     "output_type": "stream",
     "text": [
      "[0 0 0 1 0 0 1 0 0 0 0 0 0 0 0 1 1 0 0 0 0 1 1 0 1 0]\n",
      "NB, Count Vectors: 0.9230769230769231\n",
      "[0 0 0 0 0 0 0 0 0 0 0 0 0 0 0 1 1 0 0 0 0 1 1 0 0 0]\n",
      "NB, WordLevel TF-IDF: 0.8846153846153846\n",
      "[0 0 0 0 0 0 0 0 0 0 0 0 0 0 0 0 0 0 0 0 0 0 0 0 0 0]\n",
      "NB, N-Gram Vectors: 0.7307692307692307\n",
      "[0 0 0 0 0 0 0 0 0 0 0 0 0 0 0 1 0 0 0 0 0 1 0 0 0 0]\n",
      "NB, CharLevel Vectors: 0.8076923076923077\n"
     ]
    }
   ],
   "source": [
    "# Naive Bayes on Count Vectors\n",
    "accuracy = train_model(naive_bayes.MultinomialNB(), xtrain_count, train_y, xvalid_count)\n",
    "print(\"NB, Count Vectors: {}\".format(accuracy))\n",
    "\n",
    "# Naive Bayes on Word Level TF IDF Vectors\n",
    "accuracy = train_model(naive_bayes.MultinomialNB(), xtrain_tfidf, train_y, xvalid_tfidf)\n",
    "print(\"NB, WordLevel TF-IDF: {}\".format(accuracy))\n",
    "\n",
    "# Naive Bayes on Ngram Level TF IDF Vectors\n",
    "accuracy = train_model(naive_bayes.MultinomialNB(), xtrain_tfidf_ngram, train_y, xvalid_tfidf_ngram)\n",
    "print(\"NB, N-Gram Vectors: {}\".format(accuracy))\n",
    "\n",
    "# Naive Bayes on Character Level TF IDF Vectors\n",
    "accuracy = train_model(naive_bayes.MultinomialNB(), xtrain_tfidf_ngram_chars, train_y, xvalid_tfidf_ngram_chars)\n",
    "print(\"NB, CharLevel Vectors: {}\".format(accuracy))"
   ]
  },
  {
   "cell_type": "markdown",
   "metadata": {},
   "source": [
    "# Linear Classifier"
   ]
  },
  {
   "cell_type": "code",
   "execution_count": 50,
   "metadata": {},
   "outputs": [
    {
     "name": "stdout",
     "output_type": "stream",
     "text": [
      "[0 0 0 1 0 1 1 0 0 0 0 0 0 0 0 1 1 0 1 0 0 1 1 0 1 0]\n",
      "LR, Count Vectors: 0.8461538461538461\n",
      "[0 0 0 0 0 0 0 0 0 0 0 0 0 0 0 1 0 0 0 0 0 1 1 0 0 0]\n",
      "LR, WordLevel TF-IDF: 0.8461538461538461\n",
      "[0 0 0 0 0 0 0 0 0 0 0 0 0 0 0 0 0 0 0 0 0 0 0 0 0 0]\n",
      "LR, N-Gram Vectors: 0.7307692307692307\n",
      "[0 0 0 0 0 0 0 0 0 0 0 0 0 0 0 1 0 0 0 0 0 1 0 0 0 0]\n",
      "LR, CharLevel Vectors: 0.8076923076923077\n"
     ]
    }
   ],
   "source": [
    "# Linear Classifier on Count Vectors\n",
    "accuracy = train_model(linear_model.LogisticRegression(), xtrain_count, train_y, xvalid_count)\n",
    "print(\"LR, Count Vectors: {}\".format(accuracy))\n",
    "\n",
    "# Linear Classifier on Word Level TF IDF Vectors\n",
    "accuracy = train_model(linear_model.LogisticRegression(), xtrain_tfidf, train_y, xvalid_tfidf)\n",
    "print(\"LR, WordLevel TF-IDF: {}\".format(accuracy))\n",
    "\n",
    "# Linear Classifier on Ngram Level TF IDF Vectors\n",
    "accuracy = train_model(linear_model.LogisticRegression(), xtrain_tfidf_ngram, train_y, xvalid_tfidf_ngram)\n",
    "print(\"LR, N-Gram Vectors: {}\".format(accuracy))\n",
    "\n",
    "# Linear Classifier on Character Level TF IDF Vectors\n",
    "accuracy = train_model(linear_model.LogisticRegression(), xtrain_tfidf_ngram_chars, train_y, xvalid_tfidf_ngram_chars)\n",
    "print(\"LR, CharLevel Vectors: {}\".format(accuracy))"
   ]
  },
  {
   "cell_type": "markdown",
   "metadata": {},
   "source": [
    "## Random Forrest"
   ]
  },
  {
   "cell_type": "code",
   "execution_count": 15,
   "metadata": {},
   "outputs": [
    {
     "name": "stdout",
     "output_type": "stream",
     "text": [
      "RF, Count Vectors: 0.8846153846153846\n",
      "RF, WordLevel TF-IDF: 0.7692307692307693\n"
     ]
    }
   ],
   "source": [
    "# RF on Count Vectors\n",
    "accuracy = train_model(ensemble.RandomForestClassifier(), xtrain_count, train_y, xvalid_count)\n",
    "print(\"RF, Count Vectors: {}\".format(accuracy))\n",
    "\n",
    "# RF on Word Level TF IDF Vectors\n",
    "accuracy = train_model(ensemble.RandomForestClassifier(), xtrain_tfidf, train_y, xvalid_tfidf)\n",
    "print(\"RF, WordLevel TF-IDF: {}\".format(accuracy))"
   ]
  },
  {
   "cell_type": "code",
   "execution_count": 16,
   "metadata": {},
   "outputs": [
    {
     "name": "stdout",
     "output_type": "stream",
     "text": [
      "Xgb, Count Vectors: 0.8461538461538461\n",
      "Xgb, WordLevel TF-IDF: 0.8461538461538461\n",
      "Xgb, CharLevel Vectors: 0.7692307692307693\n"
     ]
    }
   ],
   "source": [
    "import xgboost\n",
    "# Extereme Gradient Boosting on Count Vectors\n",
    "accuracy = train_model(xgboost.XGBClassifier(), xtrain_count.tocsc(), train_y, xvalid_count.tocsc())\n",
    "print(\"Xgb, Count Vectors: {}\".format(accuracy))\n",
    "\n",
    "# Extereme Gradient Boosting on Word Level TF IDF Vectors\n",
    "accuracy = train_model(xgboost.XGBClassifier(), xtrain_tfidf.tocsc(), train_y, xvalid_tfidf.tocsc())\n",
    "print(\"Xgb, WordLevel TF-IDF: {}\".format(accuracy))\n",
    "\n",
    "# Extereme Gradient Boosting on Character Level TF IDF Vectors\n",
    "accuracy = train_model(xgboost.XGBClassifier(), xtrain_tfidf_ngram_chars.tocsc(), train_y, xvalid_tfidf_ngram_chars.tocsc())\n",
    "print(\"Xgb, CharLevel Vectors: {}\".format(accuracy))"
   ]
  },
  {
   "cell_type": "markdown",
   "metadata": {},
   "source": [
    "## Use Linear Classifier"
   ]
  },
  {
   "cell_type": "code",
   "execution_count": 29,
   "metadata": {},
   "outputs": [
    {
     "data": {
      "text/plain": [
       "LogisticRegression(C=1.0, class_weight=None, dual=False, fit_intercept=True,\n",
       "          intercept_scaling=1, max_iter=100, multi_class='ovr', n_jobs=1,\n",
       "          penalty='l2', random_state=None, solver='liblinear', tol=0.0001,\n",
       "          verbose=0, warm_start=False)"
      ]
     },
     "execution_count": 29,
     "metadata": {},
     "output_type": "execute_result"
    }
   ],
   "source": [
    "xtrain_count =  count_vect.transform(train_x)\n",
    "classifier = linear_model.LogisticRegression()\n",
    "classifier.fit(xtrain_count, train_y)"
   ]
  },
  {
   "cell_type": "code",
   "execution_count": 32,
   "metadata": {},
   "outputs": [],
   "source": [
    "texts = [review.body for review in reviews]\n",
    "count_vect = CountVectorizer(analyzer='word', token_pattern=r'\\w{1,}')\n",
    "count_vect.fit(texts)\n",
    "texts_count =  count_vect.transform(texts)"
   ]
  },
  {
   "cell_type": "code",
   "execution_count": 28,
   "metadata": {},
   "outputs": [
    {
     "ename": "ValueError",
     "evalue": "X has 1258 features per sample; expecting 728",
     "output_type": "error",
     "traceback": [
      "\u001b[0;31m---------------------------------------------------------------------------\u001b[0m",
      "\u001b[0;31mValueError\u001b[0m                                Traceback (most recent call last)",
      "\u001b[0;32m<ipython-input-28-88503a33bad4>\u001b[0m in \u001b[0;36m<module>\u001b[0;34m()\u001b[0m\n\u001b[0;32m----> 1\u001b[0;31m \u001b[0mpredictions\u001b[0m \u001b[0;34m=\u001b[0m \u001b[0mclassifier\u001b[0m\u001b[0;34m.\u001b[0m\u001b[0mpredict\u001b[0m\u001b[0;34m(\u001b[0m\u001b[0mtexts_count\u001b[0m\u001b[0;34m)\u001b[0m\u001b[0;34m\u001b[0m\u001b[0m\n\u001b[0m",
      "\u001b[0;32m~/envs/arbot/lib/python3.5/site-packages/sklearn/linear_model/base.py\u001b[0m in \u001b[0;36mpredict\u001b[0;34m(self, X)\u001b[0m\n\u001b[1;32m    322\u001b[0m             \u001b[0mPredicted\u001b[0m \u001b[0;32mclass\u001b[0m \u001b[0mlabel\u001b[0m \u001b[0mper\u001b[0m \u001b[0msample\u001b[0m\u001b[0;34m.\u001b[0m\u001b[0;34m\u001b[0m\u001b[0m\n\u001b[1;32m    323\u001b[0m         \"\"\"\n\u001b[0;32m--> 324\u001b[0;31m         \u001b[0mscores\u001b[0m \u001b[0;34m=\u001b[0m \u001b[0mself\u001b[0m\u001b[0;34m.\u001b[0m\u001b[0mdecision_function\u001b[0m\u001b[0;34m(\u001b[0m\u001b[0mX\u001b[0m\u001b[0;34m)\u001b[0m\u001b[0;34m\u001b[0m\u001b[0m\n\u001b[0m\u001b[1;32m    325\u001b[0m         \u001b[0;32mif\u001b[0m \u001b[0mlen\u001b[0m\u001b[0;34m(\u001b[0m\u001b[0mscores\u001b[0m\u001b[0;34m.\u001b[0m\u001b[0mshape\u001b[0m\u001b[0;34m)\u001b[0m \u001b[0;34m==\u001b[0m \u001b[0;36m1\u001b[0m\u001b[0;34m:\u001b[0m\u001b[0;34m\u001b[0m\u001b[0m\n\u001b[1;32m    326\u001b[0m             \u001b[0mindices\u001b[0m \u001b[0;34m=\u001b[0m \u001b[0;34m(\u001b[0m\u001b[0mscores\u001b[0m \u001b[0;34m>\u001b[0m \u001b[0;36m0\u001b[0m\u001b[0;34m)\u001b[0m\u001b[0;34m.\u001b[0m\u001b[0mastype\u001b[0m\u001b[0;34m(\u001b[0m\u001b[0mnp\u001b[0m\u001b[0;34m.\u001b[0m\u001b[0mint\u001b[0m\u001b[0;34m)\u001b[0m\u001b[0;34m\u001b[0m\u001b[0m\n",
      "\u001b[0;32m~/envs/arbot/lib/python3.5/site-packages/sklearn/linear_model/base.py\u001b[0m in \u001b[0;36mdecision_function\u001b[0;34m(self, X)\u001b[0m\n\u001b[1;32m    303\u001b[0m         \u001b[0;32mif\u001b[0m \u001b[0mX\u001b[0m\u001b[0;34m.\u001b[0m\u001b[0mshape\u001b[0m\u001b[0;34m[\u001b[0m\u001b[0;36m1\u001b[0m\u001b[0;34m]\u001b[0m \u001b[0;34m!=\u001b[0m \u001b[0mn_features\u001b[0m\u001b[0;34m:\u001b[0m\u001b[0;34m\u001b[0m\u001b[0m\n\u001b[1;32m    304\u001b[0m             raise ValueError(\"X has %d features per sample; expecting %d\"\n\u001b[0;32m--> 305\u001b[0;31m                              % (X.shape[1], n_features))\n\u001b[0m\u001b[1;32m    306\u001b[0m \u001b[0;34m\u001b[0m\u001b[0m\n\u001b[1;32m    307\u001b[0m         scores = safe_sparse_dot(X, self.coef_.T,\n",
      "\u001b[0;31mValueError\u001b[0m: X has 1258 features per sample; expecting 728"
     ]
    }
   ],
   "source": [
    "predictions = classifier.predict(texts_count)"
   ]
  },
  {
   "cell_type": "code",
   "execution_count": 56,
   "metadata": {
    "collapsed": true
   },
   "outputs": [],
   "source": [
    "from sklearn.pipeline import Pipeline\n",
    "from sklearn.naive_bayes import MultinomialNB\n",
    "text_clf = Pipeline([('vect', CountVectorizer()), ('clf', MultinomialNB())])"
   ]
  },
  {
   "cell_type": "code",
   "execution_count": 57,
   "metadata": {
    "collapsed": true
   },
   "outputs": [],
   "source": [
    "text_clf = text_clf.fit(train_x, train_y)"
   ]
  },
  {
   "cell_type": "code",
   "execution_count": 67,
   "metadata": {
    "collapsed": true
   },
   "outputs": [],
   "source": [
    "predicted = text_clf.predict(texts)"
   ]
  },
  {
   "cell_type": "code",
   "execution_count": 70,
   "metadata": {},
   "outputs": [
    {
     "name": "stdout",
     "output_type": "stream",
     "text": [
      "1: I bought Nessie as a treat to myself, so that I could use some leaf teas that I had been given. I love the idea and it is well built, but I found filling and closing to be a bit of a chore given the relatively narrow/shallow nature of the holding chamber. I also found that it was hard to get water to circulate through the holes as air got trapped and blocked them. But, it did still make my tea so for that I give it a thumbs up!\n",
      "1: i saw this and i just fell in love with it. im a big tea fan and recently got into the loose tea leaves. this is easy to clean and i love the design of it too. it is a bit on the pricey side but if you love your tea and dont want to have to loose leaves flowing into your mouth, i would highly recommend this product. ive seen other ones where they can hook into the side of the cup or mugs. i use a flask mug so i cant hook those designs onto my mug. because of nessies long neck, i have no problem of lifting it out when im done.\n",
      "1: bought specifically since it super easy to clean unlike many other novelty infusers that are oddly shaped. The silicone is starting to stain with use (1year on)\n",
      "1: Absolutely adorable! Maybe not the best infuser ever invented, but the cuteness makes up for that. The one issue I have, that isn't even worth knocking down the score, is that the holes are just a touch too big and smaller leaves fall out. That's common with this type of infuser though.\n",
      "1: As a tea strainer it is not that great, you are going to gets bits of leaf in your tea unless you use larger leaves. However, it is so adorable that I don't even care if it doesn't quite do it's function to perfection, cause darn it that little face and the stumpy little legs are a great addition to anyone's life.\n",
      "1: Everything about this is amazing, I want everything I own to be dinosaur shaped.\n",
      "1: I love dino!  The holes are abit big so expect some seepage of leaves if he stots about in your cup, however does infuse really well and love seeing his wee face peeking over the cup-edge.\n",
      "1: Was so excited as looks amazing but very disappointed with the amount of tea leaves which escaped through the holes. Whole point was to have no bits 😕\n",
      "0: very small but quite cute. It is a lovely colour and looks very sturdy, the box discription bodes well. Requested by a friend for christmas, I know she will love it.\n",
      "1: This tea infuser is easy to use and to clean. It is also an excellent talking point whilst waiting for the tea to brew. The only thing that would make it better if it was actually made in Scotland.\n",
      "0: Lovely\n",
      "1: works really well\n",
      "0: Very cute and makes a great present\n",
      "0: Love it!!!!!\n",
      "1: Really cute and easy to use and clean!\n",
      "1: Its kind of cute I suppose, and works fairly well, I am no tea expert myself, but I sort of expected it to not leak out quite that much of the leaves. There's normally enough that make their way out to cover half the bottom of my mug. I got this after accidentally buying a pack of loose tea, and not wanting to waste it, but in terms of ease of use I would probably stick with tea bags in the future, as they don't leave tea leaves in the bottom of my mug.\n",
      "1: Cracking novelty item but a bit naff as a tea strainer. The holes are too big so the tea falls through and there's not enough of them so some gentle assistance is required to get the tea water through it.\n",
      "0: I'm happy about this product.\n",
      "0: bought as a gift, it is cute and fun, very pleased with it.\n",
      "0: Bought as a gift and I have been informed it is great. The head is above water level in alot of mugs so is good for stiring also.\n",
      "1: Looks good. Some tea leaves came out from the holes in the bottom. Did not do a good job of infusing the water.\n",
      "1: Great novelty product, be aware it's not suitable for all teas - large holes not suitable for fine teas and can need a bit of wiggling about to get it to infuse as there aren't many holes. Still regularly used, even a year later now.\n",
      "1: Fab design, works well and is easy to clean out (unlike many others of these diffusers!).  Really pleased with it!\n",
      "1: Looks so cute and is good quality.\n",
      "1: Very good quality, soft and excellent material. You can use it in any cup, makes a perfect and strong tea. Highly recommended\n",
      "1: So cute and well made. Easily used with loose tea or even a tea bag (mine kept splitting randomly). Surprisingly a good size for all my cups\n",
      "1: Cute but it does let tea leaves through the holes\n",
      "0: Excellent.\n",
      "1: very goof as advertised\n",
      "1: Fun-looking tea infuser with enough space to also fit loose leaf tea quantities for larger mugs. Easy clean and assembly.\n",
      "1: fun, good size, works well, just a pain to clean!\n",
      "1: Really love this. Holds just the right amount of loose tea.\n",
      "0: Lovely item.\n",
      "1: Sooooo cute, excellent packaging. recommend to anyone\n",
      "1: Easy to clean, easy to fit parts together!\n",
      "1: Lovely infuser, it does let some tiniest leaves come out into the mug, but I don't mind honestly.\n",
      "1: Unfortunately it doesn’t work. Very messy to fill, fiddly to close and leaks tea. Don’t bother.\n",
      "1: Even more adorable than you think, however the holes are big enough for the small bits to sneak out.\n",
      "1: The holes are too big and the tea falls through. Will be returning.\n",
      "1: Really cute but becomes discoloured quite fast when using black tea.\n",
      "1: The tea leafs leak out the side\n",
      "0: Lovely item. May order more!\n",
      "1: A must for a tea lover. Super cute\n",
      "0: Lovely, cute gift, arrived before estimated delivery date, well packaged and was exactly what I expected. Thank you!\n",
      "0: very cute but a bit fiddly - prom delievery - thanks\n",
      "1: Amazing and beautiful! I am so pleased with my little Nessie. It works perfectly :)\n",
      "1: Cracking little infuser. Cool design and does the job very well.\n",
      "1: Very cute! Works great and arrived quickly\n",
      "0: Great to look at and works a treat\n",
      "0: Arrived quickly and everything fine till I picked out a 2nd item for my little one to eat (Animal Bar) which had a sticky residue all over the wrapper. I assumed a chew bar had melted and caused the mess. Opened it to check it was alright only to find very old spoiled chocolate inside. Despite exp saying 2018. These things happen but the other bars should be checked before more boxs are dispatched, just Incase an unsupervised child eats it. Edit - other chocolate items also spoiled (see photos) Disappointed!\n",
      "0: Brought this for my  Brothers Birthday and i was a tad worried as some of the reviews but decided to order it anyways :) really glad I did!\n",
      "0: Very disappointed in this, it's very small whereas the picture and price gives the impression that it's going to be really big & impressive. I would recommend that you buy the sweets from a shop and put in a big box yourselves! Save yourself a great deal of money and put a bigger smile on your children's faces!\n",
      "0: Bought this as a gift. I was reluctant to buy as i have seen some very negative reviews on similar products and its a bit of a gable on what your going to get. However i was very pleasantly surprised!\n",
      "0: I see a few people have moaned about this product.\n",
      "0: Well what can i say??? Nothing negative that's for sure!!  An all round classic for a babe of the 80s but loved by all generations.  The retro vibe brings tonnes of nostalgia, plus the sweets are all tasty well adored brands.  Even if you don't like the Parma violets, i'm sure you'll know someone who loves them and will snatch your hand off at the offer of them!!!  Warning do not open them with your friends present, your sweets will be snaffled before you can say 'sherbert fountain'.  You could argue that it is expensive compared to buying them individually, but I'm sure it compensates over shopping around at your time and petrol costs.  Great gift for any sweet lover if you're at despair of wondering what to buy them for their birthday or Christmas!!\n",
      "0: We ordered this as a present for our son.  Unfortunately the chocolate bar was discoloured and had to be thrown away.  This product is  of a poor quality and I would not recommend buying it.\n",
      "0: Although it arrived well packed in a pretty box the amount of sweets was very poor for the money\n",
      "0: What do you get the guy who has everything?\n",
      "0: Partner loved this gift ... but the chocolate  in the box was not good glad i opened the chocolate and not him\n",
      "0: A cute and quirky product however a lot of money for a cardboard box and some sweets!!\n",
      "0: For what you pay for this you get soooooo much stuff i was excited just opening it and it burst open full of goodies. There was old fashion sweets that you cant get anymore, sweets from now. Very 90s kind of vibe love it\n",
      "0: All chocolate was mouldedy and melted\n",
      "0: I purchased this as a side present for my husband's birthday and I'm so glad I did. Not only did he love the sweets but we both spent time reminiscing over past sweets we hadn't seen in years.\n",
      "0: Have always loved A Quarter of and used to buy them for my hubby too. They are such brilliant reminders of days gone by. This particular order was delivered so fast and I bought one for myself too 😉 The box is so well made and looks absolutely top notch. Thank you Michael for such a great company A Quarter of.  xxxxx\n",
      "0: Bought as a birthday gift for some-one who loves anything retro. Not given yet but certain they will love it. Came in a nice box but a bit Christmassy considering i needed it for another occasion, but doesn't take away from the quality or satisfaction. Would be nice to have an option of box designs though. Box is packed fully as apposed to large box and little content which is another plus. Very pleased and would recommend\n",
      "0: Bought as a Christmas present and the chocolate was mouldy. Wonder how old the rest of the sweets are. Not a great gift...\n",
      "0: Lovely box looks expensive and the sweets inside are great it reminds you of being a kid, id buy again and recomend, only negative is that the box was sent in plastic shrink wrap with the labels on so you had to take the plastic off, would be better put into a box so it doesn't get damaged on the ends other than that I was very happy.\n",
      "0: I ordered these for my grown up children ( in late 20s) as extra Christmas gifts. They were a great talking point as they rediscovered childhood favourites. Excellent range of sweets ranging from individual 'penny' chews to packets of jazzle chocolates and the much loved Animal Bar ( chocolate). I would definitely order again! Thank you!\n",
      "0: Great trade, trader and happy to do it again. Will be looking to buy from this trader\\s again.\n",
      "0: Bought for my 9yr old niece, her dentists won't be happy with me, but ah well, it's xmas!!!!\n",
      "0: Great sweets.......sent as a suprise for my neice and nephews and they loved them, got so excited opening them up and plenty to choose!\n",
      "0: Looked a lot more impressive in the pictures, slightly disappointed with it. Maybe should have read the description and not just gone off the picture\n",
      "0: Only thing missing is free dental work. Can’t wait to help the kids with this at xmas\n",
      "0: Bought this for my fiance's birthday and he absolutely loved it!! One of the best presents he has received\n",
      "0: Wow. Delivered within 2 days of ordering. Thanks . Quality product\n",
      "0: I would like to go into some description here about how they tasted but unfortunately the little beggars ate them all before I got a chance - so I can only assume they were good!!\n",
      "0: Great product with a plentiful variety of sweets, and very reasonably priced too. Many of these you cannot get in the high st supermarket. Makes a great gift and would buy again\n",
      "0: THIS IS A GIFT THANK YOU FOR YOUR KIND WORK\n",
      "0: Wife loves it good value for money\n",
      "0: Brilliant gift, I often buy this box of sweets for my other half and he is always happy to find the parcel.  Will continue to buy this product as a small present.\n",
      "0: excellent\n",
      "0: Ive had about 7 of these they are great value and loved by all recipients!\n",
      "0: Literally jam packed with sweets! Well worth the price!\n",
      "0: Very nice sweet box just the rgt size. Nice little gift\n",
      "0: Really good cheap gift\n",
      "0: Every so often I treat the kids with these boxes. They love then and I get the cast offs which generally are blackjacks and fruit salads so can't complain\n",
      "0: Great Selection of sweets, buy these for my sister who is a big sweetie fan, she loves them, came in a lovely gift box all ready for Christmas!\n",
      "0: Bought these for me hubby and we both really pleased with them, nice selection of sweets, so we ordered a second box.\n",
      "0: Nice sweet selection\n",
      "0: Great selection\n",
      "0: Smaller than expected and can’t quite justify the price but still a nice little set of sweets.\n",
      "0: My son loved this  old fashioned sweet box\n",
      "0: Very heavy -  lots of different sweets and lots of forgotten flavours all in one box.  Makes a great present for grown-ups who can remember many of these sweets -  but watch out if there are little ones around as you might find the box emptying really quickly.\n",
      "0: Perfect. brought as a xmas pressie - loved it. Plenty of choice and a good price. Quick delivery even just before xmas.\n",
      "0: Perfect gift. Bought for my partner as a gift and he loved it. Really enjoyed the variety. The box was filled to the brim. Great gift.\n",
      "0: Overall a good selection of sweets and I like the fact that it has a contents list. The only reason I haven't given it 5 stars is because I thought there were too many bubblegums in there. Could maybe have substituted some of them for something else.\n",
      "0: About what I expected. Good selection\n",
      "0: Purchased 3 boxes,for the children for Christmas,unfortunately all 3 boxes were incomplete,1 box had 3 items missing as per contents list.very disappointed.\n",
      "0: Arrived on time was packaged excellent and was overjoyed by the product I would highly recommend this as an excellent Christmas present taking you back in time to your youth.\n",
      "0: The box was intact, all the sweets were in the box. I would highly recommend this product - it brings back memories of your childhood. Over a great product and I will be sure to buy more in the future.\n",
      "0: Very well presented very good gift\n",
      "1: Arrived promptly,amazing value\n",
      "0: Great gift for difficult to buy for people!\n",
      "1: Great packaging and contents. Quick delivery too.  Good value\n",
      "0: AMAZING!!! Ordered for my daughter for Christmas, she Is going to love it!!! Thank you\n",
      "0: Nicely packaged ideal Christmas or birthday present\n",
      "0: Great value for money. Lots of yummy sweets, great gift\n",
      "0: I brought this as a fun present for part of my husbands Christmas present.  We had a big trip down memory lane looking though and rediscovering all the forgotten gems from our past.  A great fun present and a big talking point at the pub.  Everyone remembers something different and gets reminiscent about the ones they had firgit\n",
      "0: A fab selection of retro sweets and great value. You've done it again AQO!\n",
      "0: Great selection, perfect gift!\n",
      "0: Arrived quick, nicely packed, just a lot smaller than what I expected or how the pics look. Check to be on the safe side before buying\n",
      "0: As its a present I cant open it, bit smaller than what I thought it would be but am sure they will love it\n",
      "0: I bought two as gifts but they are so good I'm going to have to get one for myself\n",
      "0: Smaller than thought but gave as Easter gifts and adults and children enjoyed\n",
      "1: great variety good value and fast delivery.\n",
      "0: Lovely packaging, delivered next day!\n",
      "0: Just what I expected,great\n",
      "0: lovely treat for the kids\n",
      "0: Brings back memories\n",
      "0: Happy with order.\n",
      "0: Loads of sweets very well priced would purchase again\n",
      "0: Great product\n",
      "0: Great product, my partner loves it.\n",
      "0: Having been a customer of aquarterof.co.uk since 2005 I have been used to their high level of quality and service.  I was not disappointed in this new product.  It is literally crammed full with retro branded sweeties and chews! High quality packaging meant it arrived in perfect condition and the only delay in delivery was me not being in to collect it! Fantastic value for money and once again a very happy customer, cheers!\n",
      "0: I ordered this for a \" hard to buy for \" cousin. He grew up in the 70s and 80s and will be thrilled with this big box of retro goodies. I think it is safe to say, that I will be buying him the same gift, year after year. It also arrived exceptionally fast. Thank you A QUARTER OF\n",
      "0: nothing retro about theses sweets bar the box u can get them all in pound land for about 4 pound complete waste of money\n",
      "0: Brilliant! This little box is stuffed full of all your favourite sweeties, takes me back to tuck shop days at school. It was delivered speedily, well packed and in a plain brown wrapper. Perfect for hiding from little eyes or giftees! Highly recommended\n",
      "0: Really nice and was delivered on time. Lots of old style sweets you can't buy anymore\n",
      "0: I bought this as a present and it was sent straight to my friend so i didnt see this item. She was absolutely thrilled with it and said it had all her old favourites in.\n",
      "0: Bought this for my sweet-loving best friend. Arrived quickly, she loves them and said they taste exactly how she remembers..makes a great present!\n",
      "0: Defo good value for money\n",
      "0: Good selection of sweets but a LOT smaller than I expected. Recipients were happy with it but probably should have got something bigger for 6 people to share\n",
      "0: this was a gift and I was very pleased with it it looked lovely when it arrived as stated it was already wrapped! a lovely gift and good value for money! the gift was very much appreciated would defo get more of these!\n",
      "0: Lovely little sweet treat box that went down well with my sister. Good value for money and would buy again\n",
      "0: Will order again next year. They are brilliant\n",
      "0: Came very quickly. Good selection. Would not buy again could do better in ASDA\n",
      "0: Fab gift. Came in a nice box so already looks like a present. The box is jammed pack with all the favourite retro sweets. Love this\n",
      "0: Great selection\n",
      "0: You can buy a bigger selection for half price from Sainsbury\n",
      "0: bought for the older kids at xmas - they all loved it\n",
      "0: fantastic selection of sweets, purchased as gifts and they loved them!\n",
      "0: Excellent Product and VERY fast delivery.\n",
      "0: My son has asked me to reorder!!\n",
      "0: Gift for a friend turning 50 - she hid it away from the children to enjoy on her own.\n",
      "0: A fantastic range of sweeties each brought back wonderful childhood memories would definitely buy again\n",
      "0: great alternative retro 'selection box' well packaged, quick delivery. ideal for Christmas\n",
      "0: Great idea to have it pre wrapped up for Christmas\n",
      "0: Really fun product - brought back loads of memories and enjoyed by the whole family. Arrived really quickly too\n",
      "0: Went down a storm at Christmas.  Bought a few of these for friends and children who I find tricky to buy gifts for.\n",
      "0: Sweets tasted old and soft!\n",
      "1: Not really worth the money paid, however, there is a good variety of sweets included.\n",
      "1: Wouldn’t waste your money. Go to a pound store and you can get twice as much cheaper than that. About 3 ‘retro’ sweets in it. Cannot stress really not worth the money\n",
      "0: It was a gift and they loved it great memories were Brought back and they even asked me where I got all the retro sweets from\n",
      "0: Have only saw the outside packaging as they are meant as a Christmas gift but they did arrive very quickly and am sure they will be delicious.\n",
      "0: Got this for my son as a Christmas present and with every one he pulled out bought back memories of old days. Well worth the money\n",
      "0: Bought this as a gift so havnt opened into main box but service from seller was excellent and I would definitely order again bug thank-you.\n",
      "0: Not as big as I was expecting. Our friend seemed chuffed with it though it was a birthday gift\n",
      "0: bought for a gift and went down a treat\n",
      "0: looks great in presentation box is for a birthday present so they will not know what's inside which is all there favourite sweeties brilliant\n",
      "0: Lovely retro sweetie box.  My granddaughter loved it\n",
      "0: Brilliant selection of childhood favourites! Would definitely recommend\n",
      "0: Very very quick delivery. I ordered Sunday night and was delivered on Tuesday. Exactly how it is described. Really good quality box it comes it. Packed full of sweets. I'm very happy with my purchase.\n",
      "0: These were gifts so I did not see them myself but they were appreciated by the recipients and arrived quickly.\n",
      "0: Great selection of old style sweets which I will send abroad as Christmas gifts but tempted to eat myself 😉\n",
      "0: This is amazing, and full of old favourites, and stuff I haven't tried before. Looks yum-tastic!\n",
      "0: Gosh, this brought back lots of memories! A good selection of sweeties and lots of them too!\n",
      "0: Jam packed full of retro sweets! My friend loved this as a present :)\n",
      "0: Fantastic box of treats. Excellent value for money. Will definitely order again.  Quick delivery\n",
      "0: Arrived on time. Packaging very sturdy and secure. The sweets are really lovely and better than I expected as i wasn't sure they were going to be the real thing but they most definately are! My husband is really happy as it was a supprise gift and I will be ordering some for me very soon. 😀\n",
      "0: Great product from A Quarter of...as always!! Great selection at a good price\n",
      "0: I bought this as a present for my brother and wasn't quite sure what to expect.  I was very pleasantly surprised.  The box was stuffed full of sweets, loads of them from our childhood. Very good buy.\n",
      "0: Perfect and exactly as described\n",
      "1: The contents aren't worth the price-tag, though it is a fun little item if you don't want to spend time buying each individual piece.\n",
      "0: Actually I bought these for my neighbours, so the stars are from them, caused a lot of excitement, disappeared in no time!\n",
      "0: Perfect!! All the sweets I remember from my school days. ..😆\n",
      "0: This was  a gift.  the recipient was very pleased with it. the box made it perfect as it looked gift wrapped. It arrived promply and in good order. I would order his product again.\n",
      "0: I'm just about to order another!!! As brought for my husbands birthday and very pleased so buying for my sons birthday also getting some for Xmas presents large choice of good quality sweets very recommend!!\n",
      "0: Comes in a lovely gift box. Great selection of sweets. Some I haven’t seen in years. My husband is still getting through them now.\n",
      "0: I bought this on the £5 special offer deal. Pretty box, great stocking filler, but very small. I'm happy with it for a fiver, especially as I'm always able to lump thing together when buying via Amazon so get the 'free over £20' postage. However, I would have felt very unhappy with it if I had paid the headline price of £15.\n",
      "1: It’s fine but not that good\n",
      "0: These are brilliant well worth the money great for part of a Christmas present\n",
      "0: Exactly as described\n",
      "0: Came really fast & all yummy sweets!\n",
      "0: Ordered for my brother he was over the moon :)\n",
      "0: Great product my husband loved it.\n",
      "0: Wow and Yummy.\n",
      "0: Massive collection of retro sweets for all to enjoy, a great selection at great value\n",
      "0: Excellent value for money! Great range of products to take you back to your childhood. Perfect for Christmas or birthdays as came in a lovely box which will be a dream to wrap. Much easier than lots of loose bags of sweets.\n",
      "0: The perfect gift for a sweet tooth\n",
      "0: Excellent selection\n",
      "0: I must admit it lovely going back into 70s\n",
      "0: Ideal gift for a big kid!\n",
      "0: My daughter loved theses as a stocking filler.\n",
      "0: Great part of an retro Xmas present.\n",
      "0: Purchased this item as a gift for my dad, lots of variety in the box including some old favourites!\n",
      "0: Son was really happy with this gift\n",
      "0: As listed\n",
      "0: brilliant very retro\n",
      "0: Bought as a gift for an adult this product is every bit as good as it looks in the photo. My 50 year old husband, I'm sure, is going to enjoy eating these sweets from his childhood.\n",
      "0: Lots of favourites in here\n",
      "0: Arrived in good time, very well received by my grandchildren, just a bit of fun as an extra, they loved them.\n",
      "0: Very good\n",
      "0: Really nice gift.....will definitely be getting the bigger box next time as the whole family wanted some....good value .😊\n",
      "0: Bought as a gift and they we’re very well received. Nice selection of sweets presented well.  Would buy again.\n",
      "0: Bought back childhood memories. great selection . will buy again\n",
      "0: Got this for my brothers birthday he's 29 and thought it was awesome. Thanks very much 👌X\n",
      "0: Really amazing variety of sweets - a box full of nostalgia, makes a great gift for any age!\n",
      "0: Great gift for sweet lovers!\n",
      "1: many and varied products. Would you purchase again. Fast shipping.\n",
      "0: Got it on Black Friday for actress deal and was suprised when my partner opened them at Xmas with how much stuff was inside\n",
      "0: Bought for a family member with a sweet tooth. They loved as had sweets they hadn't seen in stores for a long time.\n",
      "0: Bought as a gift.\n",
      "0: I was concerned about this purchase as I had read about many of these being disappointing. This box was fantastic and stuffed full of favourites from the past. It made a wonderful gift and is highly recommended.\n",
      "0: Good variety\n",
      "0: presented in a strurdy and attractive box, quich delivery, this was bought as a gift so the contents i havent seen, as yet!but i know someone who will be pleased to see all the old favourites, so roll on chomp chomp, crunch crunch.\n",
      "1: Great for Brits living abroad\n",
      "0: okay lots of sherbet in the box\n",
      "1: childhood revisited :-)\n",
      "0: As described\n",
      "0: Heavy, well put together box with a massive selection. Have had to wrap this gift straight away so I don't tuck in myself!\n",
      "0: Fantastic. Bought for my brother, he loved them! arrived nicely packaged and sealed tightly in cellophane shrinkwrap outer layer. Jam packed with retro sweets.  Great quality. Would purchase again\n",
      "0: Birthday present for my 8 yr old nephew. He was delighted!\n",
      "0: Omg! The kids went crazy for this at Christmas I bought ten boxes for my daughter's school friends for their Xmas gifts and each child loved it! I wish I had bought one for me! Beautifully packaged, and the different assortment of sweets going back a few decades took me back to my childhood! Just lovely\n",
      "1: Quite upset that I've spent £11 on £3 worth of sweets would of saved money if i just made it myself.\n",
      "0: Christmas gift for brothers children and they were over the moon with it :-)\n",
      "0: SWEETS SWEETS\n",
      "0: This was an excellent gift for a teenage boy. The quality was amazing and deliveeed on time. Would definitely buy again.\n",
      "0: Bought as a present and my brother loved it, good selection of sweets inside and I bought it while on offer so it was even better!\n",
      "0: Great gift for anyone with a sweet tooth who likes good old fashioned sweets. Plenty of choice and definitely worth the money. Comes in a lovely gift box\n",
      "0: Very good\n",
      "0: Ideal stocking fillers for kids.\n",
      "0: great bday gift :)\n",
      "0: Great present for Christmas\n",
      "0: Really pleased with my sweets\n",
      "0: Very disappointed and cannot return. Smaller box than it shows in the picture and with a lot cheap sweets which are very soft and some are not in good shape.\n",
      "1: Too much bubblegum.\n",
      "1: Great quality and packaging fab\n",
      "0: Nice product\n",
      "0: Not quite what we expected but very well received by the family who all found something they remembered eating when younger. Fun box!\n",
      "0: Fab retro treats\n",
      "0: Nowhere near as big as i would of expected , just no wow factor.  Contains what was described just visually a massive let down for £15 including postage id expect more\n",
      "1: id give this no stars if i could. cant even be bothered to rey to a message, or guarantee tjat good will turn up. dont waist your money coz ypu wont get it back, or the item you paid for\n",
      "0: I've bought a few different boxes of retro sweets as gifts the past year and I have to say that this is the best. The selection is great, it'sa great variety of truly retro sweets that everyone recognises. The quantity of sweets versus the value in this box is the best yet. Defo will be ordering again for the next time I have to get a present.\n",
      "0: Great idea. It's a Fab selection of sweets and well packaged. I bought this as a gift and it bought a big grin to their face and was poured over by all other guests.\n",
      "0: Very disappointed black jacks and fruit salads where soft loads of bubble gum also said gift wrapped but had sticker on saying what was underneath the shrink wrapper\n",
      "0: Arrived on time. \" Already Wrapped\" Bumper Retro Sweets Selection Box; Crammed Full Of Your Childhood Sweets.\n",
      "0: Really happy with this purchase, a good selection of sweets and the box was full. I'm sure you could possibly get them cheaper if you bought individually but I wanted it for a present and it came in a lovely box so no wrapping required! Perfect:-)\n",
      "0: I brought these as a present for my 12 year old son and 9 year old daughter and they were a huge success (they both squealed when they opened the lids). A great quality box and selection inside. Will defo buy again.\n",
      "0: I only bought this product a few days ago and it was delivered yesterday so overall I am delighted.\n",
      "0: Bought for hubby and he was delighted with this! Got it in daily deals so was a good deal....not sure if I would have been so happy paying full price though. It's quite a small box, I was surprised when it arrived but it is jam packed so quite a lot of content.\n",
      "0: Secret Santa is done!\n",
      "0: Loved them when I bought them last year. My husband loved them again this year. If he's good he'll get another box next year. It's his favourite present every year. A bigger box maybe?\n",
      "0: Great.\n",
      "0: Just received it in time, and all the sweets are very cool, they are not expired as I seen feedback when purchased items, they are all 1 year in availability, they are really great, taste good! and received as in the picture!\n",
      "1: Great item\n",
      "0: Really good present for friends and family, went down really well. Highly recommend.\n",
      "0: I like them\n",
      "0: brill have had to hide theses :)\n",
      "0: A gift delivered to my son at uni. Very well received!\n",
      "0: my grandchildren loved these sweets such fun\n",
      "0: As Expected\n",
      "0: Nostalgia is not what it was.\n",
      "0: Excellent\n",
      "0: They were I joyed.\n",
      "0: Really quick delivery and I wasn't disappointed. I always order a box of sweets for my sons at Xmas and have bought from A Quarter Of... For the last few years. Good value and lots of old favourites. Was very excited to see 'Golden Nuggets' bubble gum. Used to love that as a kid! May need to order another one for myself.\n",
      "0: Fantastic please nobody be put off by some of the negative reviews it's understandable some people may be angry over a spoiled chocolate but let's face it accidents can happen it's not the vendors fault.  That said this is a must buy and extremely pleased this is going with my brother's present arrived next day too check out there website a quarter of .co. UK they have high reviews off BBC etc\n",
      "0: It's OK for lazy shoppers like me but overpriced,  could have got similar selection in supermarkets for half the price,much smaller box than I expected\n",
      "0: the sweets are a gift for someone at christmas so i wont really know what there like hopefully there fine thanks eileen locke\n",
      "0: Rubbish. You can buy all these things at local supermarkets for fraction of the price and make you're own hamper up. Retro is mainstream now!\n",
      "0: Wasn't happy with this product hardly any items in the box the box was tiny and nothing like the pic\n",
      "0: Okay\n",
      "0: Nice kids loved the sweets but not sure its value for money\n",
      "0: Loved this product so many different sweets instead and it’s jam packed highly recommend\n",
      "0: fantastic value for money. brings back memories of the 1970s. bought as a Christmas gift.\n",
      "0: Good selection.\n",
      "0: Bought for my daughter’s 6th birthday and she loves it.  Was packed full of her favourite sweets and arrived quickly and within a gift box.  Would definitely purchase again.\n",
      "0: Excellent thank u\n",
      "0: Great. Lots of favourites\n",
      "0: Great gift\n",
      "0: This was purchased as a gift so I do not know anything about the contents. It was delivered in good time and certainly feels heavy enough to be stuffed full of sweets, as, I am sure, will the recipient.\n",
      "0: Fab gift\n",
      "0: Ok\n",
      "0: Short expiry date. Would expect better for the price\n",
      "0: Comes very very nice packed and filled with lots of childhood candy (I'm 30).\n",
      "0: Brill gift\n",
      "1: excellent. many thanks\n",
      "0: Bought this for myself for a treat and I'm pleased with it.\n",
      "0: nice for a kids present or your nan but have seen them cheaper\n",
      "0: all good all eaten in two days\n",
      "0: Great choice. Perfect for reminiscing!\n",
      "0: great\n",
      "0: Amazing variety of sweets within. Brought for a family member which loved it! Didn't last for very long once they opened it\n",
      "0: Excellent\n",
      "0: Loved this it was for a gift when opened wished I'd got one for myself\n",
      "0: Perfect gift especially for sweets monsters.  Recommended\n",
      "0: Excellent\n",
      "0: These sweets are amazing, went down so well, only downside only 4black jacks and everyone wanted one, so next time I will buy extra black jacks\n",
      "1: i was disappointed the sweets didn't seem worth the price I don't think I would buy again martin batt\n",
      "0: Item as indicated very good service\n",
      "0: Great sweets and was taking me back to when i was a child. A great collection\n",
      "0: Not as expected. Songs are not has you remember. Wanted to send back because not worth it but couldn't.\n",
      "0: Smaller box than I expected.\n",
      "0: very good well presented\n",
      "0: Alot smaller than I expected, esp for the price. Best before date runs out Dec 2017 so I can't even wrap it for an Xmas present.\n",
      "0: cane in a nice presentation box with loads of retro sweets,bought for my son for xmas and he loved it\n",
      "0: Seemed ok\n",
      "0: Much smaller than I expected\n",
      "0: What a massive rip off...I've just bought a couple of bags of sweets (Swizzels Bumper bag) for £1 each from a local store that contain 18 of the same sweets contained in this box. For about £3 I'd have the same amount! If I'd seen these bags before I bought this box I really wouldn't have bothered with it. But  I've removed all the bubblegum, there's too much for my liking, and replaced with all the lollies and chews from the bags I bought. I would definitely not recommend to anyone.\n",
      "0: Very small was expecting a small hamper it's like a box of chocolates, I haven't opened it as it was supposed to be a Christmas present I'll have to buy another present now!\n",
      "0: This was a suprise gift for my wife,and oh boy did it go down well. For a hard working nursing assistant coming of  13 hour shift it was worth it to see the smile on her face and the memories of much younger times.\n",
      "0: I got ill eating all of these when I received them, so am doing the same to my friend who was jealous when she saw them\n",
      "0: Wonderful stocking filler\n",
      "0: Total rubbish and waste of money, only half the sweets shown on display were actually in box would not recommend\n",
      "0: He loved it!\n",
      "0: Bought for a present for someone. All the sweets look delicious and you get so many! Fantastic value, I'm really pleased with it.\n",
      "0: very goog\n",
      "0: A great selection of my old time favourite sweets. AHHHHHHH the memories. Someone transport me back to those times!!!\n",
      "0: Very poor and not worth the money. Very disappointed for my 50th birthday retro party.\n",
      "0: Brillant full box of old favorites which have been shipped to NZ as part of Xmas present.\n",
      "0: Great box of retro sweets, my wife even says if you do again next holidays we getting some as presents if we are quick.  Great.\n",
      "0: I bought this as an anniversary present for my partner and on opening he was intitally really pleased. Until he started opening the items. The chocolate animal bar was spoiled, grey and unrecognisable as you can see in the pictures. The jazzles turned into a bar and looked unrecognisable as the other picture shows and the sweets didn't seem edible. Despite the date saying they went out of date in 2018 I would say these products went out of date already. Will not be purchasing again! Rubbish quality and a waste of money as it doesn't even seem edible! Really unhappy!!!\n",
      "0: REASON FOR BUYING: A present for the person that grew up in the 90s\n",
      "0: Took a few days to dispatch but once it had it arrived next day. Its a little bigger then letter box size and was full to the brim with sweets. I love the box they came in as well and the gold ribbon printed in it gives it a lovely touch. I would recommend this to anyone who's a big kid at heart. I would definitely buy again.\n",
      "0: Gave these to my son as he was born in the 90s as a blast from the past when he was younger and he loved them! Loads of sweets inside he's still picking at them a couple of weeks on. Notice some are moaning about price, I personally think for such a nice amount of sweets (plenty) and the gift box it comes in the price is very fair after all its a business they run not a charity! by the time you've traipsed around all the shops trying to find all the different sweets (which you won't as some i haven't seen in shops anymore) then bought a gift box you would definitely be more out of pocket. I will definitely be buying more at Christmas!! Very pleased :)\n",
      "0: I've ordered quite a few boxes from A Quarter Of as add-on birthday gifts throughout the years and they always put nostalgic smiles on faces. The selection and wide box encourage sharing and they're often passed around and shared with the whole room, which is great at birthday or celebration events as the adults get to talk about their childhood treats and the kids get interested and full of sugar at the same time.\n",
      "0: You can't beat retro sweets, this box includes pretty must all the greats. It was originally bought for my bridesmaids kiddies for on our wedding day, but they didn't arrive on time (my fault for ordering them so late, lol). So, they were a nice surprise to come home to after our wedding. Yummy!!!!\n",
      "1: Quite good value but the contents are a bit boring! Nothing unusual that you couldn't get in your average corner shop and too much bubble gum! I would not purchase again.\n",
      "0: I bought this as a pressie for the wife's birthday. She loved it. All the things that we had as a kid.\n",
      "0: Bought these for valentines for my husband as he does live his sweets. It came in a lovely red box. Perfect for Valentine's Day. Very happy with the amount of sweets especially after reading reviews on this and other sweet hampers. Husband was happy. No sticky sweets or leaking. Would buy again.\n",
      "0: Wasn't that impressed. Had to get rid of lots of bubble gum and added lots more sweets/chocolate to it\n",
      "0: A super present for any age. Better than a birthday card! Excellent value for money!\n",
      "0: A well received gift.\n",
      "0: Brilliant would definitely recommend to any sweet lover\n",
      "0: Great selection and good size for a present\n",
      "0: As described\n",
      "0: Really pleased with the above. Contained a nice variety of retro sweets. Nicely boxed too.\n",
      "0: Lots of retro sweets for your money!\n",
      "0: Bought as birthday present! Good idea for a gift\n",
      "0: Hahahah  those are my childhood memory!\n",
      "0: Great present.good value\n",
      "0: A present for a very happy hubby\n",
      "0: Brilliant sweetie box, well worth the money\n",
      "0: Quick delivery and good value for money. Really pleased\n",
      "0: Fantastic box of sweets\n",
      "0: Arrived on time great present.\n",
      "0: Great product thanks.\n",
      "0: SUPER!!:)\n",
      "0: Awesome .\n",
      "0: Arrived quickly and is exactly as described. Thanks.\n",
      "0: Was a present but could not get the sticky postage label off of the front of box. Not what l would have expected.\n",
      "0: As this is going to be a Christmas gift I cannot comment on the products but the packaging is nice.\n",
      "0: Gave this as a 60th birthday present and they loved it. The box it comes in looks really good.\n",
      "0: Fabulous variety of sweets, definitely worth being given as a present.\n",
      "0: Brough as an Xmas present , had no complaints so I think they enjoyed it\n",
      "0: it was a great present to give\n",
      "0: A gift for a family member but a very fun gift.\n",
      "0: Haven't opened the box yet (covered n cellophane) but looks very nice and feels very full. Sure my son will be pleased with this\n",
      "0: Great present! Bought it as a secret santa gift and the person who received it loved it. The range and variety of sweets included is great.\n",
      "0: Lots of surprises and memories\n",
      "0: Great mixture of sweets, there's a lot in the box that you can still get but it's a good gift if you like sweets\n",
      "0: Great box, wide selection of sweets and you get a lot of sweets! Faster delivery too\n",
      "0: Old school can't beat it some super. Surprise\n",
      "0: Great product with plenty of my favourite sweets! Arrived on time and nice box too.\n",
      "0: Was a gift for w friend, went down a treat! Would definitely order again!\n",
      "0: Very  good  value\n",
      "0: Kids loved this!\n",
      "0: fab, packed full of goodies.\n",
      "0: This made a fab birthday present and with Prime it was delivered next day!!\n",
      "1: Arrived as stated - beautifully presented.  Would definitely use again\n",
      "0: Amazing box of childhood memories\n",
      "0: Lovely thank you\n",
      "0: These retro sweets made a lovely gift and made a change from giving a box of chocolates. I was really pleased with the volume and selection of sweets.  Having the packaging designed like gift wrap was a nice touch and meant that the box really didn't need wrapping.\n",
      "0: Fantastic so many old favourite's from days of old\n",
      "0: Great\n",
      "0: Lots of bubblegum sweets which was a bit disappointing. Makes a great gift.\n",
      "0: Got this as a Christmas gift for my brother and he loved it.\n",
      "1: Not worth the money cheaper to go to shop and do your own!!!\n",
      "1: Lovely item. Worth the money. Fast delivery\n",
      "0: Bought this for my b day pinata,arrived super quick and i squealed when i opened this!no bazooka gum,but two happy tattoo gums and no candy necklace but an extra drumstick!please buy this product!there is a fruit salad missing because I ate one\n",
      "0: Not bad but personally would have preferred not to have all the bubblegum\n",
      "0: This item is great,my friend loved it!:)\n",
      "0: Really happy with my sweets - iv ordered it before and probably will continue to order them :)\n",
      "0: Bought for grandson. He loved it\n",
      "1: Fast delivery will be using again\n",
      "0: Excellent choice of sweets! It's like nostalgia in a box! :)\n",
      "0: Arrived quickly and greeted with delight.\n",
      "0: Bought this for my Dad for his birthday.  Awesome - he loved it.\n",
      "1: Excellent value\n",
      "0: Fantastic. My friends son was extremely pleased with it\n",
      "0: Lovely well presented box of sweets.\n",
      "0: EXCELLENT\n",
      "0: Mostly a good product, but animal bar had spoiled. Put you off eating the rest really!\n",
      "0: Arrived early and sweets tasted great proper old school sweets too 10/10 will buy again\n",
      "0: Arrived promptly, in lovely packaging and packed full to the brim with a great assortment of sweets. Will defenitely buy again!\n",
      "0: Arrived in good time, box looks nice, I don't know about content as not opened it, as its a gift.\n",
      "0: Great package, we buy one every year for my husband's grown up son!\n",
      "0: I buy these all the time and my friends love receiving them as gifts. Always look good quality and delivered on time\n",
      "0: Superb Service, Product and Price.....\n",
      "0: very welcome present\n",
      "0: Lovely box of retro sweets which really took my family back in time when they received these. Plenty of choice and great value for money and bonus for me was I didn't have to wrap it.\n",
      "0: Bought for my brother for Christmas and he loved it!\n",
      "0: Very heavy hubby gonna love it\n",
      "0: I am very happy with the sweets\n",
      "0: Very nice\n",
      "0: looks good, though not being opened until Christmas day...\n",
      "0: Really happy\n",
      "0: Terrific item, brings back some lovely memories, we shall be back for some more at a later date.\n",
      "1: Good product\n",
      "0: A*\n",
      "0: Kids loved it!!\n",
      "0: So very happy with this. The packaging was great no wrapping needed. I bought it as a valentines present for my partner and he just loved the great verity of sweets. I will definitely be buying more of these in the future for gifts\n",
      "0: om nom nom\n",
      "0: Juat alright\n",
      "0: It was a great product and it got to me when I needed it too\n",
      "0: Very nice for a gift\n",
      "0: Came quick my son will love it\n",
      "0: Lovely packaging.Just what i needed.\n",
      "0: Unopenned as it is a present for my daughter but it looks the part\n",
      "0: Great present\n",
      "0: Really worth the money. Loved seeing sweets that reminded me of my childhood. Will be buying it again x\n",
      "0: Gift to daughter's birthday.\n",
      "0: Full of lots of sweets great present\n",
      "0: Amazing product! I bought as a Christmas present and my parents love it. It's jam packed too, not stingy at all! Definitely recommend :)\n",
      "0: Not as retro as I would have liked.. But is still quite cool.\n",
      "1: Great product fast delivery\n",
      "0: Great value for money and a lovely box of sweets\n",
      "0: was a great gift\n",
      "1: Great item well packaged.\n",
      "0: Awesome stocking filler for the wife.\n",
      "0: Silly Xmas present for my husband in the Middle East. He loved it!\n",
      "0: Excellent quality, came very quickly enjoyed very much! :D\n"
     ]
    }
   ],
   "source": [
    "for i,label in enumerate(predicted):\n",
    "    print('{}: {}'.format(label, texts[i]))"
   ]
  },
  {
   "cell_type": "code",
   "execution_count": 62,
   "metadata": {},
   "outputs": [
    {
     "name": "stdout",
     "output_type": "stream",
     "text": [
      "64     Worth a fiver.I bought this on the £5 special ...\n",
      "94                                  Four Stars.Very good\n",
      "45     ... - she hid it away from the children to enj...\n",
      "55     looks interesting.looks great in presentation ...\n",
      "61     Sweet box.This was  a gift.  the recipient was...\n",
      "97                               Four Stars.Good variety\n",
      "65     cute and works well for loose tea leaf drinker...\n",
      "19     Great Value & Great Gift.Ive had about 7 of th...\n",
      "40     I bought this as a present and it was sent ......\n",
      "6      This product is of a poor quality and I would ...\n",
      "37      Bought 2 for gifts, great product..Great product\n",
      "79     Happy with product..Bought as a gift and I hav...\n",
      "3      Baby Nessie.Lovely, cute gift, arrived before ...\n",
      "12     Excellent selection of sweets and memories - g...\n",
      "53     Good.Not as big as I was expecting. Our friend...\n",
      "91     Fantastic!.A fab selection of retro sweets and...\n",
      "31          Sweets Galore.Great selection, perfect gift!\n",
      "1      it is cute and fun, very pleased with it.bough...\n",
      "27     very sad children at christmas.Purchased 3 box...\n",
      "38     FANTASTIC.I ordered this for a \" hard to buy f...\n",
      "15     5*.Bought this for my fiance's birthday and he...\n",
      "67     Absolutely adorable! Maybe not the best infuse...\n",
      "63     Loved them!.Comes in a lovely gift box. Great ...\n",
      "100                             Three Stars.As described\n",
      "50     Have only saw the outside packaging as they ar...\n",
      "66     easy clean!.bought specifically since it super...\n",
      "Name: text, dtype: object\n"
     ]
    }
   ],
   "source": [
    "print(valid_x)"
   ]
  },
  {
   "cell_type": "code",
   "execution_count": 66,
   "metadata": {},
   "outputs": [
    {
     "name": "stdout",
     "output_type": "stream",
     "text": [
      "                                                  text\n",
      "0    I bought Nessie as a treat to myself, so that ...\n",
      "1    i saw this and i just fell in love with it. im...\n",
      "2    bought specifically since it super easy to cle...\n",
      "3    Absolutely adorable! Maybe not the best infuse...\n",
      "4    As a tea strainer it is not that great, you ar...\n",
      "5    Everything about this is amazing, I want every...\n",
      "6    I love dino!  The holes are abit big so expect...\n",
      "7    Was so excited as looks amazing but very disap...\n",
      "8    very small but quite cute. It is a lovely colo...\n",
      "9    This tea infuser is easy to use and to clean. ...\n",
      "10                                              Lovely\n",
      "11                                   works really well\n",
      "12                 Very cute and makes a great present\n",
      "13                                        Love it!!!!!\n",
      "14              Really cute and easy to use and clean!\n",
      "15   Its kind of cute I suppose, and works fairly w...\n",
      "16   Cracking novelty item but a bit naff as a tea ...\n",
      "17                       I'm happy about this product.\n",
      "18   bought as a gift, it is cute and fun, very ple...\n",
      "19   Bought as a gift and I have been informed it i...\n",
      "20   Looks good. Some tea leaves came out from the ...\n",
      "21   Great novelty product, be aware it's not suita...\n",
      "22   Fab design, works well and is easy to clean ou...\n",
      "23                  Looks so cute and is good quality.\n",
      "24   Very good quality, soft and excellent material...\n",
      "25   So cute and well made. Easily used with loose ...\n",
      "26   Cute but it does let tea leaves through the holes\n",
      "27                                          Excellent.\n",
      "28                             very goof as advertised\n",
      "29   Fun-looking tea infuser with enough space to a...\n",
      "..                                                 ...\n",
      "401                     Very heavy hubby gonna love it\n",
      "402                    I am very happy with the sweets\n",
      "403                                          Very nice\n",
      "404  looks good, though not being opened until Chri...\n",
      "405                                       Really happy\n",
      "406  Terrific item, brings back some lovely memorie...\n",
      "407                                       Good product\n",
      "408                                                 A*\n",
      "409                                    Kids loved it!!\n",
      "410  So very happy with this. The packaging was gre...\n",
      "411                                         om nom nom\n",
      "412                                       Juat alright\n",
      "413  It was a great product and it got to me when I...\n",
      "414                               Very nice for a gift\n",
      "415                     Came quick my son will love it\n",
      "416               Lovely packaging.Just what i needed.\n",
      "417  Unopenned as it is a present for my daughter b...\n",
      "418                                      Great present\n",
      "419  Really worth the money. Loved seeing sweets th...\n",
      "420                       Gift to daughter's birthday.\n",
      "421               Full of lots of sweets great present\n",
      "422  Amazing product! I bought as a Christmas prese...\n",
      "423  Not as retro as I would have liked.. But is st...\n",
      "424                        Great product fast delivery\n",
      "425   Great value for money and a lovely box of sweets\n",
      "426                                   was a great gift\n",
      "427                          Great item well packaged.\n",
      "428              Awesome stocking filler for the wife.\n",
      "429  Silly Xmas present for my husband in the Middl...\n",
      "430  Excellent quality, came very quickly enjoyed v...\n",
      "\n",
      "[431 rows x 1 columns]\n"
     ]
    }
   ],
   "source": [
    "print(p_df)"
   ]
  },
  {
   "cell_type": "code",
   "execution_count": null,
   "metadata": {
    "collapsed": true
   },
   "outputs": [],
   "source": []
  }
 ],
 "metadata": {
  "kernelspec": {
   "display_name": "Django Shell-Plus",
   "language": "python",
   "name": "django_extensions"
  },
  "language_info": {
   "codemirror_mode": {
    "name": "ipython",
    "version": 3
   },
   "file_extension": ".py",
   "mimetype": "text/x-python",
   "name": "python",
   "nbconvert_exporter": "python",
   "pygments_lexer": "ipython3",
   "version": "3.6.6"
  }
 },
 "nbformat": 4,
 "nbformat_minor": 2
}
