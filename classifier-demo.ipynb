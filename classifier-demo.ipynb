{
 "cells": [
  {
   "cell_type": "code",
   "execution_count": 65,
   "metadata": {},
   "outputs": [],
   "source": [
    "import pandas as pd\n",
    "import numpy as np\n",
    "from sklearn.externals import joblib\n",
    "from sklearn.feature_extraction.text import CountVectorizer"
   ]
  },
  {
   "cell_type": "code",
   "execution_count": 72,
   "metadata": {},
   "outputs": [],
   "source": [
    "clf = joblib.load('classifiers/models/gifts.pkl')\n",
    "count_vect = CountVectorizer(analyzer='word', token_pattern=r'\\w{1,}', vocabulary=joblib.load('classifiers/models/gifts_features.pkl'))"
   ]
  },
  {
   "cell_type": "code",
   "execution_count": 73,
   "metadata": {},
   "outputs": [],
   "source": [
    "data = [\n",
    "    {'text': 'ya boo sucks', 'label': None},\n",
    "    {'text': 'asdfasdfdfasdfasdfasdfasdf', 'label': None},\n",
    "    {'text': 'gift gift gift gift', 'label': None},\n",
    "    {'text': 'I bought this as a gift for my granddaughter', 'label': None},\n",
    "    {'text': 'Excellent Variety of Sweets.Great product with a plentiful variety of sweets, and very reasonably priced too. Many of these you cannot get in the high st supermarket. Makes a great gift and would buy again', 'label': None}\n",
    "]"
   ]
  },
  {
   "cell_type": "code",
   "execution_count": 74,
   "metadata": {},
   "outputs": [],
   "source": [
    "df = pd.DataFrame(data)\n",
    "#df = pd.read_csv('classifiers/training/gifts.csv', names=['text', 'label'])"
   ]
  },
  {
   "cell_type": "code",
   "execution_count": 75,
   "metadata": {},
   "outputs": [],
   "source": [
    "#count_vect.fit(df['text'])\n",
    "feature_vectors = count_vect.transform(df['text'])"
   ]
  },
  {
   "cell_type": "code",
   "execution_count": 76,
   "metadata": {},
   "outputs": [
    {
     "name": "stderr",
     "output_type": "stream",
     "text": [
      "/home/pob/envs/arbot/lib/python3.6/site-packages/sklearn/preprocessing/label.py:151: DeprecationWarning: The truth value of an empty array is ambiguous. Returning False, but in future this will result in an error. Use `array.size > 0` to check that an array is not empty.\n",
      "  if diff:\n"
     ]
    }
   ],
   "source": [
    "predictions = clf.predict(feature_vectors)"
   ]
  },
  {
   "cell_type": "code",
   "execution_count": 77,
   "metadata": {},
   "outputs": [
    {
     "name": "stdout",
     "output_type": "stream",
     "text": [
      "1: ya boo sucks\n",
      "1: asdfasdfdfasdfasdfasdfasdf\n",
      "0: gift gift gift gift\n",
      "0: I bought this as a gift for my granddaughter\n",
      "0: Excellent Variety of Sweets.Great product with a plentiful variety of sweets, and very reasonably priced too. Many of these you cannot get in the high st supermarket. Makes a great gift and would buy again\n"
     ]
    }
   ],
   "source": [
    "it = np.nditer(predictions, flags=['f_index'])\n",
    "while not it.finished:\n",
    "    df['text'][it.index]\n",
    "    #print(\"%d <%d>\" % (it[0], it.index))\n",
    "    print('{}: {}'.format(it[0], df['text'][it.index]))\n",
    "    it.iternext()"
   ]
  },
  {
   "cell_type": "code",
   "execution_count": null,
   "metadata": {},
   "outputs": [],
   "source": []
  }
 ],
 "metadata": {
  "kernelspec": {
   "display_name": "Python 3",
   "language": "python",
   "name": "python3"
  },
  "language_info": {
   "codemirror_mode": {
    "name": "ipython",
    "version": 3
   },
   "file_extension": ".py",
   "mimetype": "text/x-python",
   "name": "python",
   "nbconvert_exporter": "python",
   "pygments_lexer": "ipython3",
   "version": "3.6.6"
  }
 },
 "nbformat": 4,
 "nbformat_minor": 2
}
