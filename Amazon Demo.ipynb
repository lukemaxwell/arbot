{
 "cells": [
  {
   "cell_type": "code",
   "execution_count": 39,
   "metadata": {
    "collapsed": true
   },
   "outputs": [],
   "source": [
    "import numpy as np\n",
    "from sklearn.feature_extraction.text import CountVectorizer\n",
    "from sklearn.externals import joblib"
   ]
  },
  {
   "cell_type": "code",
   "execution_count": 34,
   "metadata": {},
   "outputs": [],
   "source": [
    "clf = joblib.load('classifiers/models/gifts.pkl')\n",
    "vocabulary = joblib.load('classifiers/models/gifts_features.pkl')"
   ]
  },
  {
   "cell_type": "code",
   "execution_count": 35,
   "metadata": {},
   "outputs": [],
   "source": [
    "reviews = Review.objects.all()\n",
    "texts = []\n",
    "for review in reviews:\n",
    "    texts.append([review.body])\n",
    "labels = ['text']\n",
    "df = pd.DataFrame.from_records(texts, columns=labels)"
   ]
  },
  {
   "cell_type": "code",
   "execution_count": 36,
   "metadata": {},
   "outputs": [],
   "source": [
    "count_vect = CountVectorizer(analyzer='word', token_pattern=r'\\w{1,}', vocabulary=vocabulary)\n",
    "count_vect.fit(df['text'])\n",
    "x_count_vect =  count_vect.transform(df['text'])"
   ]
  },
  {
   "cell_type": "code",
   "execution_count": 37,
   "metadata": {},
   "outputs": [],
   "source": [
    "predictions = clf.predict(x_count_vect)"
   ]
  },
  {
   "cell_type": "code",
   "execution_count": 38,
   "metadata": {},
   "outputs": [
    {
     "data": {
      "text/plain": [
       "1"
      ]
     },
     "execution_count": 38,
     "metadata": {},
     "output_type": "execute_result"
    }
   ],
   "source": [
    "predictions[0]"
   ]
  },
  {
   "cell_type": "code",
   "execution_count": 99,
   "metadata": {},
   "outputs": [],
   "source": [
    "it = np.nditer(predictions, flags=['f_index'])\n",
    "results = {0: [], 1: []}"
   ]
  },
  {
   "cell_type": "code",
   "execution_count": 100,
   "metadata": {},
   "outputs": [],
   "source": [
    "while not it.finished:\n",
    "    prediction = it[0].item(0)\n",
    "    results[prediction].append(texts[it.index])\n",
    "    it.iternext()"
   ]
  },
  {
   "cell_type": "code",
   "execution_count": 102,
   "metadata": {},
   "outputs": [
    {
     "data": {
      "text/plain": [
       "[['I bought Nessie as a treat to myself, so that I could use some leaf teas that I had been given. I love the idea and it is well built, but I found filling and closing to be a bit of a chore given the relatively narrow/shallow nature of the holding chamber. I also found that it was hard to get water to circulate through the holes as air got trapped and blocked them. But, it did still make my tea so for that I give it a thumbs up!'],\n",
       " ['i saw this and i just fell in love with it. im a big tea fan and recently got into the loose tea leaves. this is easy to clean and i love the design of it too. it is a bit on the pricey side but if you love your tea and dont want to have to loose leaves flowing into your mouth, i would highly recommend this product. ive seen other ones where they can hook into the side of the cup or mugs. i use a flask mug so i cant hook those designs onto my mug. because of nessies long neck, i have no problem of lifting it out when im done.'],\n",
       " ['bought specifically since it super easy to clean unlike many other novelty infusers that are oddly shaped. The silicone is starting to stain with use (1year on)'],\n",
       " [\"Absolutely adorable! Maybe not the best infuser ever invented, but the cuteness makes up for that. The one issue I have, that isn't even worth knocking down the score, is that the holes are just a touch too big and smaller leaves fall out. That's common with this type of infuser though.\"],\n",
       " [\"As a tea strainer it is not that great, you are going to gets bits of leaf in your tea unless you use larger leaves. However, it is so adorable that I don't even care if it doesn't quite do it's function to perfection, cause darn it that little face and the stumpy little legs are a great addition to anyone's life.\"],\n",
       " ['Everything about this is amazing, I want everything I own to be dinosaur shaped.'],\n",
       " ['I love dino!  The holes are abit big so expect some seepage of leaves if he stots about in your cup, however does infuse really well and love seeing his wee face peeking over the cup-edge.'],\n",
       " ['Was so excited as looks amazing but very disappointed with the amount of tea leaves which escaped through the holes. Whole point was to have no bits 😕'],\n",
       " ['This tea infuser is easy to use and to clean. It is also an excellent talking point whilst waiting for the tea to brew. The only thing that would make it better if it was actually made in Scotland.'],\n",
       " ['works really well'],\n",
       " ['Really cute and easy to use and clean!'],\n",
       " [\"Its kind of cute I suppose, and works fairly well, I am no tea expert myself, but I sort of expected it to not leak out quite that much of the leaves. There's normally enough that make their way out to cover half the bottom of my mug. I got this after accidentally buying a pack of loose tea, and not wanting to waste it, but in terms of ease of use I would probably stick with tea bags in the future, as they don't leave tea leaves in the bottom of my mug.\"],\n",
       " [\"Cracking novelty item but a bit naff as a tea strainer. The holes are too big so the tea falls through and there's not enough of them so some gentle assistance is required to get the tea water through it.\"],\n",
       " ['Bought as a gift and I have been informed it is great. The head is above water level in alot of mugs so is good for stiring also.'],\n",
       " ['Looks good. Some tea leaves came out from the holes in the bottom. Did not do a good job of infusing the water.'],\n",
       " [\"Great novelty product, be aware it's not suitable for all teas - large holes not suitable for fine teas and can need a bit of wiggling about to get it to infuse as there aren't many holes. Still regularly used, even a year later now.\"],\n",
       " ['Fab design, works well and is easy to clean out (unlike many others of these diffusers!).  Really pleased with it!'],\n",
       " ['Looks so cute and is good quality.'],\n",
       " ['Very good quality, soft and excellent material. You can use it in any cup, makes a perfect and strong tea. Highly recommended'],\n",
       " ['So cute and well made. Easily used with loose tea or even a tea bag (mine kept splitting randomly). Surprisingly a good size for all my cups'],\n",
       " ['Cute but it does let tea leaves through the holes'],\n",
       " ['very goof as advertised'],\n",
       " ['Fun-looking tea infuser with enough space to also fit loose leaf tea quantities for larger mugs. Easy clean and assembly.'],\n",
       " ['fun, good size, works well, just a pain to clean!'],\n",
       " ['Really love this. Holds just the right amount of loose tea.'],\n",
       " ['Sooooo cute, excellent packaging. recommend to anyone'],\n",
       " ['Easy to clean, easy to fit parts together!'],\n",
       " [\"Lovely infuser, it does let some tiniest leaves come out into the mug, but I don't mind honestly.\"],\n",
       " ['Unfortunately it doesn’t work. Very messy to fill, fiddly to close and leaks tea. Don’t bother.'],\n",
       " ['Even more adorable than you think, however the holes are big enough for the small bits to sneak out.'],\n",
       " ['The holes are too big and the tea falls through. Will be returning.'],\n",
       " ['Really cute but becomes discoloured quite fast when using black tea.'],\n",
       " ['The tea leafs leak out the side'],\n",
       " ['A must for a tea lover. Super cute'],\n",
       " ['Cracking little infuser. Cool design and does the job very well.'],\n",
       " ['Looked a lot more impressive in the pictures, slightly disappointed with it. Maybe should have read the description and not just gone off the picture'],\n",
       " ['Arrived promptly,amazing value'],\n",
       " ['Great packaging and contents. Quick delivery too.  Good value'],\n",
       " ['Not really worth the money paid, however, there is a good variety of sweets included.'],\n",
       " ['Wouldn’t waste your money. Go to a pound store and you can get twice as much cheaper than that. About 3 ‘retro’ sweets in it. Cannot stress really not worth the money'],\n",
       " ['It’s fine but not that good'],\n",
       " ['many and varied products. Would you purchase again. Fast shipping.'],\n",
       " ['Good variety'],\n",
       " ['childhood revisited :-)'],\n",
       " [\"Quite upset that I've spent £11 on £3 worth of sweets would of saved money if i just made it myself.\"],\n",
       " ['Too much bubblegum.'],\n",
       " ['Fab retro treats'],\n",
       " ['Secret Santa is done!'],\n",
       " ['excellent. many thanks'],\n",
       " ['Wonderful stocking filler'],\n",
       " [\"Quite good value but the contents are a bit boring! Nothing unusual that you couldn't get in your average corner shop and too much bubble gum! I would not purchase again.\"],\n",
       " ['SUPER!!:)'],\n",
       " ['Very  good  value'],\n",
       " ['fab, packed full of goodies.'],\n",
       " ['Not worth the money cheaper to go to shop and do your own!!!'],\n",
       " ['Lovely item. Worth the money. Fast delivery'],\n",
       " ['Excellent value'],\n",
       " ['Really happy'],\n",
       " ['Good product']]"
      ]
     },
     "execution_count": 102,
     "metadata": {},
     "output_type": "execute_result"
    }
   ],
   "source": [
    "results[1]"
   ]
  },
  {
   "cell_type": "code",
   "execution_count": null,
   "metadata": {
    "collapsed": true
   },
   "outputs": [],
   "source": []
  }
 ],
 "metadata": {
  "kernelspec": {
   "display_name": "Django Shell-Plus",
   "language": "python",
   "name": "django_extensions"
  },
  "language_info": {
   "codemirror_mode": {
    "name": "ipython",
    "version": 3
   },
   "file_extension": ".py",
   "mimetype": "text/x-python",
   "name": "python",
   "nbconvert_exporter": "python",
   "pygments_lexer": "ipython3",
   "version": "3.6.6"
  }
 },
 "nbformat": 4,
 "nbformat_minor": 2
}
